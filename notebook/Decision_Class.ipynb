{
 "cells": [
  {
   "cell_type": "markdown",
   "id": "2235c684-3dff-4c6a-beb8-abde7637463c",
   "metadata": {},
   "source": [
    "やること\n",
    "- mbdのrateのヒストの確認(2021/02 - )\n",
    "- クラス候補案を出す（percentileから決める（分類数を揃えるため））\n",
    "- row_id, rateを作成して、csvにする（それで後でmerge)"
   ]
  },
  {
   "cell_type": "markdown",
   "id": "d34b710e-132c-4a86-b9cf-8fe08c214645",
   "metadata": {},
   "source": [
    "【結論】  \n",
    "< class分類 >\n",
    "全データでクラス分類を行うときの候補としては、下記  \n",
    "class0: 0.953  \n",
    "class1: 0.996  \n",
    "class2: 1  \n",
    "class3: 1.008  \n",
    "class4: 1.063  \n",
    "（正規分布と仮定したときに1σくらいまでは同じくらいの数で細かく分類して、それより外側は外側という括りにしても良いかも？予測精度をどこまで求めるかによるが）  \n",
    "  \n",
    "< 追加検討 >\n",
    "activeの値で分類したときには、比率はどうなっているのかを確認  \n",
    "→activeが大きいほど、分布としては変化率が小さい（1近傍に集中する）が、最大・最小の値も大きくなっている（ここの予測の対処の仕方は工夫点かも？アイデアはまだ整理できていないけど）"
   ]
  },
  {
   "cell_type": "markdown",
   "id": "675d3526-e90e-4c31-b470-e022eaa0c0ca",
   "metadata": {},
   "source": [
    "# mbdのヒスト確認　＆　クラス候補案"
   ]
  },
  {
   "cell_type": "code",
   "execution_count": 1,
   "id": "951cdae5-d3b0-489e-84d2-53e93d676674",
   "metadata": {},
   "outputs": [
    {
     "name": "stderr",
     "output_type": "stream",
     "text": [
      "/Users/akimoto/opt/anaconda3/lib/python3.9/site-packages/scipy/__init__.py:146: UserWarning: A NumPy version >=1.16.5 and <1.23.0 is required for this version of SciPy (detected version 1.23.5\n",
      "  warnings.warn(f\"A NumPy version >={np_minversion} and <{np_maxversion}\"\n"
     ]
    }
   ],
   "source": [
    "import pandas as pd\n",
    "import numpy as np\n",
    "import matplotlib.pyplot as plt\n",
    "import seaborn as sns; sns.set()"
   ]
  },
  {
   "cell_type": "code",
   "execution_count": 2,
   "id": "1e73cd59-70df-44ad-ac25-d19e1d083b27",
   "metadata": {},
   "outputs": [],
   "source": [
    "# Filepath\n",
    "train_filepath = \"../data/raw/train.csv\"\n",
    "revealed_filepath = \"../data/raw/revealed_test.csv\"\n",
    "test_filepath = \"../data/raw/test.csv\""
   ]
  },
  {
   "cell_type": "code",
   "execution_count": 3,
   "id": "f6d3969d-ba6b-449b-ad97-900405b044a4",
   "metadata": {},
   "outputs": [],
   "source": [
    "train = pd.read_csv(train_filepath)\n",
    "revealed = pd.read_csv(revealed_filepath)"
   ]
  },
  {
   "cell_type": "code",
   "execution_count": 4,
   "id": "86d4edd8-ca04-4621-a2b3-bb092b4b0c58",
   "metadata": {},
   "outputs": [
    {
     "data": {
      "text/html": [
       "<div>\n",
       "<style scoped>\n",
       "    .dataframe tbody tr th:only-of-type {\n",
       "        vertical-align: middle;\n",
       "    }\n",
       "\n",
       "    .dataframe tbody tr th {\n",
       "        vertical-align: top;\n",
       "    }\n",
       "\n",
       "    .dataframe thead th {\n",
       "        text-align: right;\n",
       "    }\n",
       "</style>\n",
       "<table border=\"1\" class=\"dataframe\">\n",
       "  <thead>\n",
       "    <tr style=\"text-align: right;\">\n",
       "      <th></th>\n",
       "      <th>row_id</th>\n",
       "      <th>cfips</th>\n",
       "      <th>county</th>\n",
       "      <th>state</th>\n",
       "      <th>first_day_of_month</th>\n",
       "      <th>microbusiness_density</th>\n",
       "      <th>active</th>\n",
       "    </tr>\n",
       "  </thead>\n",
       "  <tbody>\n",
       "    <tr>\n",
       "      <th>0</th>\n",
       "      <td>10001_2019-08-01</td>\n",
       "      <td>10001</td>\n",
       "      <td>Kent County</td>\n",
       "      <td>Delaware</td>\n",
       "      <td>2019-08-01</td>\n",
       "      <td>4.995701</td>\n",
       "      <td>6624</td>\n",
       "    </tr>\n",
       "    <tr>\n",
       "      <th>1</th>\n",
       "      <td>10001_2019-09-01</td>\n",
       "      <td>10001</td>\n",
       "      <td>Kent County</td>\n",
       "      <td>Delaware</td>\n",
       "      <td>2019-09-01</td>\n",
       "      <td>5.031902</td>\n",
       "      <td>6672</td>\n",
       "    </tr>\n",
       "    <tr>\n",
       "      <th>2</th>\n",
       "      <td>10001_2019-10-01</td>\n",
       "      <td>10001</td>\n",
       "      <td>Kent County</td>\n",
       "      <td>Delaware</td>\n",
       "      <td>2019-10-01</td>\n",
       "      <td>5.098270</td>\n",
       "      <td>6760</td>\n",
       "    </tr>\n",
       "    <tr>\n",
       "      <th>3</th>\n",
       "      <td>10001_2019-11-01</td>\n",
       "      <td>10001</td>\n",
       "      <td>Kent County</td>\n",
       "      <td>Delaware</td>\n",
       "      <td>2019-11-01</td>\n",
       "      <td>5.124666</td>\n",
       "      <td>6795</td>\n",
       "    </tr>\n",
       "    <tr>\n",
       "      <th>4</th>\n",
       "      <td>10001_2019-12-01</td>\n",
       "      <td>10001</td>\n",
       "      <td>Kent County</td>\n",
       "      <td>Delaware</td>\n",
       "      <td>2019-12-01</td>\n",
       "      <td>5.086203</td>\n",
       "      <td>6744</td>\n",
       "    </tr>\n",
       "  </tbody>\n",
       "</table>\n",
       "</div>"
      ],
      "text/plain": [
       "             row_id  cfips       county     state first_day_of_month  \\\n",
       "0  10001_2019-08-01  10001  Kent County  Delaware         2019-08-01   \n",
       "1  10001_2019-09-01  10001  Kent County  Delaware         2019-09-01   \n",
       "2  10001_2019-10-01  10001  Kent County  Delaware         2019-10-01   \n",
       "3  10001_2019-11-01  10001  Kent County  Delaware         2019-11-01   \n",
       "4  10001_2019-12-01  10001  Kent County  Delaware         2019-12-01   \n",
       "\n",
       "   microbusiness_density  active  \n",
       "0               4.995701    6624  \n",
       "1               5.031902    6672  \n",
       "2               5.098270    6760  \n",
       "3               5.124666    6795  \n",
       "4               5.086203    6744  "
      ]
     },
     "execution_count": 4,
     "metadata": {},
     "output_type": "execute_result"
    }
   ],
   "source": [
    "# Concat\n",
    "train = pd.concat([train, revealed])\n",
    "train = train.sort_values([\"row_id\", \"cfips\"])\n",
    "train.reset_index(drop=True, inplace=True)\n",
    "train.head()"
   ]
  },
  {
   "cell_type": "code",
   "execution_count": 5,
   "id": "ca91c721-7328-40b1-8b22-64c15e95a2f0",
   "metadata": {},
   "outputs": [
    {
     "data": {
      "text/html": [
       "<div>\n",
       "<style scoped>\n",
       "    .dataframe tbody tr th:only-of-type {\n",
       "        vertical-align: middle;\n",
       "    }\n",
       "\n",
       "    .dataframe tbody tr th {\n",
       "        vertical-align: top;\n",
       "    }\n",
       "\n",
       "    .dataframe thead th {\n",
       "        text-align: right;\n",
       "    }\n",
       "</style>\n",
       "<table border=\"1\" class=\"dataframe\">\n",
       "  <thead>\n",
       "    <tr style=\"text-align: right;\">\n",
       "      <th></th>\n",
       "      <th>row_id</th>\n",
       "      <th>cfips</th>\n",
       "      <th>county</th>\n",
       "      <th>state</th>\n",
       "      <th>first_day_of_month</th>\n",
       "      <th>microbusiness_density</th>\n",
       "      <th>active</th>\n",
       "    </tr>\n",
       "  </thead>\n",
       "  <tbody>\n",
       "    <tr>\n",
       "      <th>0</th>\n",
       "      <td>10001_2019-08-01</td>\n",
       "      <td>10001</td>\n",
       "      <td>Kent County</td>\n",
       "      <td>Delaware</td>\n",
       "      <td>2019-08-01</td>\n",
       "      <td>4.995701</td>\n",
       "      <td>6624</td>\n",
       "    </tr>\n",
       "    <tr>\n",
       "      <th>1</th>\n",
       "      <td>10001_2019-09-01</td>\n",
       "      <td>10001</td>\n",
       "      <td>Kent County</td>\n",
       "      <td>Delaware</td>\n",
       "      <td>2019-09-01</td>\n",
       "      <td>5.031902</td>\n",
       "      <td>6672</td>\n",
       "    </tr>\n",
       "    <tr>\n",
       "      <th>2</th>\n",
       "      <td>10001_2019-10-01</td>\n",
       "      <td>10001</td>\n",
       "      <td>Kent County</td>\n",
       "      <td>Delaware</td>\n",
       "      <td>2019-10-01</td>\n",
       "      <td>5.098270</td>\n",
       "      <td>6760</td>\n",
       "    </tr>\n",
       "    <tr>\n",
       "      <th>3</th>\n",
       "      <td>10001_2019-11-01</td>\n",
       "      <td>10001</td>\n",
       "      <td>Kent County</td>\n",
       "      <td>Delaware</td>\n",
       "      <td>2019-11-01</td>\n",
       "      <td>5.124666</td>\n",
       "      <td>6795</td>\n",
       "    </tr>\n",
       "    <tr>\n",
       "      <th>4</th>\n",
       "      <td>10001_2019-12-01</td>\n",
       "      <td>10001</td>\n",
       "      <td>Kent County</td>\n",
       "      <td>Delaware</td>\n",
       "      <td>2019-12-01</td>\n",
       "      <td>5.086203</td>\n",
       "      <td>6744</td>\n",
       "    </tr>\n",
       "    <tr>\n",
       "      <th>...</th>\n",
       "      <td>...</td>\n",
       "      <td>...</td>\n",
       "      <td>...</td>\n",
       "      <td>...</td>\n",
       "      <td>...</td>\n",
       "      <td>...</td>\n",
       "      <td>...</td>\n",
       "    </tr>\n",
       "    <tr>\n",
       "      <th>128530</th>\n",
       "      <td>9015_2022-08-01</td>\n",
       "      <td>9015</td>\n",
       "      <td>Windham County</td>\n",
       "      <td>Connecticut</td>\n",
       "      <td>2022-08-01</td>\n",
       "      <td>3.552985</td>\n",
       "      <td>3323</td>\n",
       "    </tr>\n",
       "    <tr>\n",
       "      <th>128531</th>\n",
       "      <td>9015_2022-09-01</td>\n",
       "      <td>9015</td>\n",
       "      <td>Windham County</td>\n",
       "      <td>Connecticut</td>\n",
       "      <td>2022-09-01</td>\n",
       "      <td>3.567954</td>\n",
       "      <td>3337</td>\n",
       "    </tr>\n",
       "    <tr>\n",
       "      <th>128532</th>\n",
       "      <td>9015_2022-10-01</td>\n",
       "      <td>9015</td>\n",
       "      <td>Windham County</td>\n",
       "      <td>Connecticut</td>\n",
       "      <td>2022-10-01</td>\n",
       "      <td>3.566885</td>\n",
       "      <td>3336</td>\n",
       "    </tr>\n",
       "    <tr>\n",
       "      <th>128533</th>\n",
       "      <td>9015_2022-11-01</td>\n",
       "      <td>9015</td>\n",
       "      <td>Windham County</td>\n",
       "      <td>Connecticut</td>\n",
       "      <td>2022-11-01</td>\n",
       "      <td>3.573300</td>\n",
       "      <td>3342</td>\n",
       "    </tr>\n",
       "    <tr>\n",
       "      <th>128534</th>\n",
       "      <td>9015_2022-12-01</td>\n",
       "      <td>9015</td>\n",
       "      <td>Windham County</td>\n",
       "      <td>Connecticut</td>\n",
       "      <td>2022-12-01</td>\n",
       "      <td>3.576507</td>\n",
       "      <td>3345</td>\n",
       "    </tr>\n",
       "  </tbody>\n",
       "</table>\n",
       "<p>128508 rows × 7 columns</p>\n",
       "</div>"
      ],
      "text/plain": [
       "                  row_id  cfips          county        state  \\\n",
       "0       10001_2019-08-01  10001     Kent County     Delaware   \n",
       "1       10001_2019-09-01  10001     Kent County     Delaware   \n",
       "2       10001_2019-10-01  10001     Kent County     Delaware   \n",
       "3       10001_2019-11-01  10001     Kent County     Delaware   \n",
       "4       10001_2019-12-01  10001     Kent County     Delaware   \n",
       "...                  ...    ...             ...          ...   \n",
       "128530   9015_2022-08-01   9015  Windham County  Connecticut   \n",
       "128531   9015_2022-09-01   9015  Windham County  Connecticut   \n",
       "128532   9015_2022-10-01   9015  Windham County  Connecticut   \n",
       "128533   9015_2022-11-01   9015  Windham County  Connecticut   \n",
       "128534   9015_2022-12-01   9015  Windham County  Connecticut   \n",
       "\n",
       "       first_day_of_month  microbusiness_density  active  \n",
       "0              2019-08-01               4.995701    6624  \n",
       "1              2019-09-01               5.031902    6672  \n",
       "2              2019-10-01               5.098270    6760  \n",
       "3              2019-11-01               5.124666    6795  \n",
       "4              2019-12-01               5.086203    6744  \n",
       "...                   ...                    ...     ...  \n",
       "128530         2022-08-01               3.552985    3323  \n",
       "128531         2022-09-01               3.567954    3337  \n",
       "128532         2022-10-01               3.566885    3336  \n",
       "128533         2022-11-01               3.573300    3342  \n",
       "128534         2022-12-01               3.576507    3345  \n",
       "\n",
       "[128508 rows x 7 columns]"
      ]
     },
     "execution_count": 5,
     "metadata": {},
     "output_type": "execute_result"
    }
   ],
   "source": [
    "# 比率作成時に0割が発生するので、0の行は除く\n",
    "train = train.query(\"microbusiness_density != 0\")\n",
    "train"
   ]
  },
  {
   "cell_type": "code",
   "execution_count": 6,
   "id": "8b8df0bc-ab9b-434b-aeb8-7a051c8090c5",
   "metadata": {},
   "outputs": [],
   "source": [
    "# 比率の特徴呂作成\n",
    "train[\"shift_1_mbd\"] = train.groupby(\"cfips\")[\"microbusiness_density\"].shift(1)\n",
    "train = train.fillna(method=\"bfill\")\n",
    "train[\"rate_shift1\"] = train[\"microbusiness_density\"] / train[\"shift_1_mbd\"]"
   ]
  },
  {
   "cell_type": "code",
   "execution_count": 7,
   "id": "4b1affeb-f7b0-4596-a0df-e86a193ff41b",
   "metadata": {},
   "outputs": [],
   "source": [
    "#　2021/02 以降のデータの抽出\n",
    "train[\"first_day_of_month\"] = pd.to_datetime(train[\"first_day_of_month\"])\n",
    "extract_train = train.query(\"first_day_of_month >= '2021-02-01'\")"
   ]
  },
  {
   "cell_type": "code",
   "execution_count": 8,
   "id": "66feea08-e748-4aee-aca7-35ed6c4335eb",
   "metadata": {},
   "outputs": [],
   "source": [
    "extract_train.reset_index(inplace=True)"
   ]
  },
  {
   "cell_type": "code",
   "execution_count": 9,
   "id": "a6f4d2e7-30a5-4417-b312-589d144f0caf",
   "metadata": {},
   "outputs": [
    {
     "data": {
      "image/png": "[encoded data removed]",
      "text/plain": [
       "<Figure size 640x480 with 1 Axes>"
      ]
     },
     "metadata": {},
     "output_type": "display_data"
    }
   ],
   "source": [
    "# ヒストグラムの描画\n",
    "bins = int(np.log2(len(train)) + 1)\n",
    "plt.hist(extract_train[\"rate_shift1\"], bins=bins)\n",
    "plt.show()"
   ]
  },
  {
   "cell_type": "code",
   "execution_count": 10,
   "id": "34626a46-fe14-423c-ab15-f4fe9490eee2",
   "metadata": {},
   "outputs": [
    {
     "data": {
      "text/plain": [
       "count    72081.000000\n",
       "mean         1.004128\n",
       "std          0.099463\n",
       "min          0.048310\n",
       "25%          0.994778\n",
       "50%          1.000649\n",
       "75%          1.009469\n",
       "max         17.463277\n",
       "Name: rate_shift1, dtype: float64"
      ]
     },
     "execution_count": 10,
     "metadata": {},
     "output_type": "execute_result"
    }
   ],
   "source": [
    "extract_train[\"rate_shift1\"].describe()"
   ]
  },
  {
   "cell_type": "markdown",
   "id": "337a9a01-25d0-4ab1-8201-3f05115bde6f",
   "metadata": {},
   "source": [
    "-> 極端に大きいものと小さいものが存在している  \n",
    "-> 弾く"
   ]
  },
  {
   "cell_type": "code",
   "execution_count": 11,
   "id": "57216886-bf34-4ba7-b13b-a836eb14d846",
   "metadata": {},
   "outputs": [
    {
     "data": {
      "image/png": "[encoded data removed]",
      "text/plain": [
       "<Figure size 640x480 with 1 Axes>"
      ]
     },
     "metadata": {},
     "output_type": "display_data"
    }
   ],
   "source": [
    "top = 99.9; bottom = 0.1\n",
    "percentile_top     = np.percentile(extract_train[\"rate_shift1\"], top)\n",
    "percentile_bottom  = np.percentile(extract_train[\"rate_shift1\"], bottom)\n",
    "\n",
    "# ヒストグラムの描画\n",
    "# bins = int(np.log2(len(train)) + 1)\n",
    "bins = 50\n",
    "plt.hist(extract_train[\"rate_shift1\"], bins=bins)\n",
    "plt.axvline(percentile_top, linestyle=\"dashed\", c=\"orange\")\n",
    "plt.axvline(percentile_bottom, linestyle=\"dashed\", c=\"orange\")\n",
    "plt.show()"
   ]
  },
  {
   "cell_type": "code",
   "execution_count": 12,
   "id": "426a49ac-b67d-408c-9bf0-8296dca9cb30",
   "metadata": {},
   "outputs": [
    {
     "data": {
      "image/png": "[encoded data removed]",
      "text/plain": [
       "<Figure size 640x480 with 1 Axes>"
      ]
     },
     "metadata": {},
     "output_type": "display_data"
    }
   ],
   "source": [
    "top = 99.9; bottom = 0.1\n",
    "percentile_top     = np.percentile(extract_train[\"rate_shift1\"], top)\n",
    "percentile_bottom  = np.percentile(extract_train[\"rate_shift1\"], bottom)\n",
    "\n",
    "pick_data = extract_train.query(\"@percentile_bottom <= rate_shift1 <= @percentile_top\")\n",
    "# ヒストグラムの描画\n",
    "# bins = int(np.log2(len(train)) + 1)\n",
    "bins = 50\n",
    "plt.hist(pick_data[\"rate_shift1\"], bins=bins)\n",
    "plt.axvline(percentile_top, linestyle=\"dashed\", c=\"orange\")\n",
    "plt.axvline(percentile_bottom, linestyle=\"dashed\", c=\"orange\")\n",
    "plt.show()"
   ]
  },
  {
   "cell_type": "code",
   "execution_count": 13,
   "id": "7ea6b811-967d-457f-be47-071684095870",
   "metadata": {},
   "outputs": [
    {
     "data": {
      "image/png": "[encoded data removed]",
      "text/plain": [
       "<Figure size 640x480 with 1 Axes>"
      ]
     },
     "metadata": {},
     "output_type": "display_data"
    }
   ],
   "source": [
    "top = 99; bottom = 1\n",
    "percentile_top     = np.percentile(extract_train[\"rate_shift1\"], top)\n",
    "percentile_bottom  = np.percentile(extract_train[\"rate_shift1\"], bottom)\n",
    "\n",
    "pick_data = extract_train.query(\"@percentile_bottom <= rate_shift1 <= @percentile_top\")\n",
    "# ヒストグラムの描画\n",
    "# bins = int(np.log2(len(train)) + 1)\n",
    "bins = 50\n",
    "plt.hist(pick_data[\"rate_shift1\"], bins=bins)\n",
    "plt.axvline(percentile_top, linestyle=\"dashed\", c=\"orange\")\n",
    "plt.axvline(percentile_bottom, linestyle=\"dashed\", c=\"orange\")\n",
    "plt.show()"
   ]
  },
  {
   "cell_type": "code",
   "execution_count": 14,
   "id": "cdb656af-e687-42c3-889a-06502118b6e5",
   "metadata": {},
   "outputs": [
    {
     "name": "stdout",
     "output_type": "stream",
     "text": [
      "9.128e-01 <= rate_shift1 < 9.926e-01\n",
      "data_number:14128\n",
      "\n",
      "9.926e-01 <= rate_shift1 < 1.000e+00\n",
      "data_number:11988\n",
      "\n",
      "1.000e+00 <= rate_shift1 < 1.004e+00\n",
      "data_number:16267\n",
      "\n",
      "1.004e+00 <= rate_shift1 < 1.012e+00\n",
      "data_number:14128\n",
      "\n",
      "1.012e+00 <= rate_shift1 < 1.113e+00\n",
      "data_number:14127\n",
      "\n"
     ]
    }
   ],
   "source": [
    "# ５クラスに分類\n",
    "class_num = 5\n",
    "increment = 100 / class_num\n",
    "percentile_list = []\n",
    "value = 0\n",
    "while value <= 100:\n",
    "    percentile_list.append(value)\n",
    "    value += increment\n",
    "\n",
    "percentile_value_list = [0 for _ in range(len(percentile_list))]\n",
    "for i in range(len(percentile_list)-1):\n",
    "    percentile_bottom = percentile_list[i]\n",
    "    percentile_top = percentile_list[i+1]\n",
    "    \n",
    "    percentile_bottom_value = np.percentile(pick_data[\"rate_shift1\"], percentile_bottom)\n",
    "    percentile_top_value    = np.percentile(pick_data[\"rate_shift1\"], percentile_top)\n",
    "    # 確認のため\n",
    "    tmp_df = pick_data.query(\"@percentile_bottom_value <= rate_shift1 < @percentile_top_value\")\n",
    "    data_num = len(tmp_df)\n",
    "    \n",
    "    percentile_value_list[i] = percentile_bottom_value\n",
    "    print(f\"{percentile_bottom_value:.3e} <= rate_shift1 < {percentile_top_value:.3e}\")\n",
    "    print(f\"data_number:{data_num}\")\n",
    "    print()\n",
    "else:\n",
    "    percentile_value_list[i+1] = percentile_top_value"
   ]
  },
  {
   "cell_type": "code",
   "execution_count": 15,
   "id": "a7911741-2734-427d-a5e5-dc2116f9f922",
   "metadata": {},
   "outputs": [
    {
     "data": {
      "text/plain": [
       "[0.9128358694372245,\n",
       " 0.9925608787797536,\n",
       " 1.0,\n",
       " 1.003816790595688,\n",
       " 1.0119579699184165,\n",
       " 1.1132075849120338]"
      ]
     },
     "execution_count": 15,
     "metadata": {},
     "output_type": "execute_result"
    }
   ],
   "source": [
    "percentile_value_list"
   ]
  },
  {
   "cell_type": "code",
   "execution_count": 17,
   "id": "add3949a-9f35-4fb1-a7ed-2dd076c9f480",
   "metadata": {},
   "outputs": [
    {
     "name": "stdout",
     "output_type": "stream",
     "text": [
      "class0 candidate:0.953\n",
      "class1 candidate:0.996\n",
      "class2 candidate:1.002\n",
      "class3 candidate:1.008\n",
      "class4 candidate:1.063\n"
     ]
    },
    {
     "data": {
      "image/png": "[encoded data removed]",
      "text/plain": [
       "<Figure size 1000x1000 with 1 Axes>"
      ]
     },
     "metadata": {},
     "output_type": "display_data"
    }
   ],
   "source": [
    "# ヒストグラムの描画\n",
    "# bins = int(np.log2(len(train)) + 1)\n",
    "bins = 50\n",
    "plt.figure(figsize=(10,10))\n",
    "plt.hist(pick_data[\"rate_shift1\"], bins=bins)\n",
    "plt.axvline(percentile_value_list[0], linestyle=\"dashed\", c=\"orange\")\n",
    "class_candidate_list = []\n",
    "for i in range(len(percentile_value_list)-1):\n",
    "    percentile_value = percentile_value_list[i]\n",
    "    percentile = percentile_list[i]\n",
    "    mean = (percentile_value_list[i]+percentile_value_list[i+1])/2\n",
    "    class_candidate_list.append(mean)\n",
    "    print(f\"class{i} candidate:{mean:.3f}\")\n",
    "    plt.axvline(percentile_value, linestyle=\"dashed\", c=\"orange\")\n",
    "    plt.axvline(mean, linestyle=\"solid\", c=\"r\")\n",
    "plt.axvline(percentile_value_list[-1], linestyle=\"dashed\", c=\"orange\")\n",
    "    \n",
    "plt.show()"
   ]
  },
  {
   "cell_type": "markdown",
   "id": "fbab030a-c4d8-40ae-b1e5-8539c2d80e82",
   "metadata": {},
   "source": [
    "0.992 - 1の間にデータは1近傍にデータが偏り気味  "
   ]
  },
  {
   "cell_type": "markdown",
   "id": "9caefb94-e6cd-4cb3-937c-e90c08efb7bb",
   "metadata": {},
   "source": [
    "### activeでヒストが変わるかどうか確認"
   ]
  },
  {
   "cell_type": "code",
   "execution_count": 72,
   "id": "d7769cb7-7671-4854-a4b2-d5a5acb82637",
   "metadata": {},
   "outputs": [],
   "source": [
    "# Filepath\n",
    "train_filepath = \"../data/raw/train.csv\"\n",
    "revealed_filepath = \"../data/raw/revealed_test.csv\"\n",
    "test_filepath = \"../data/raw/test.csv\""
   ]
  },
  {
   "cell_type": "code",
   "execution_count": 73,
   "id": "49c43799-9c0a-4feb-a2ec-79038d77552a",
   "metadata": {},
   "outputs": [],
   "source": [
    "train = pd.read_csv(train_filepath)\n",
    "revealed = pd.read_csv(revealed_filepath)"
   ]
  },
  {
   "cell_type": "code",
   "execution_count": 74,
   "id": "42b63353-0c6b-43d2-8c9b-314aa89f22dd",
   "metadata": {},
   "outputs": [
    {
     "data": {
      "text/html": [
       "<div>\n",
       "<style scoped>\n",
       "    .dataframe tbody tr th:only-of-type {\n",
       "        vertical-align: middle;\n",
       "    }\n",
       "\n",
       "    .dataframe tbody tr th {\n",
       "        vertical-align: top;\n",
       "    }\n",
       "\n",
       "    .dataframe thead th {\n",
       "        text-align: right;\n",
       "    }\n",
       "</style>\n",
       "<table border=\"1\" class=\"dataframe\">\n",
       "  <thead>\n",
       "    <tr style=\"text-align: right;\">\n",
       "      <th></th>\n",
       "      <th>row_id</th>\n",
       "      <th>cfips</th>\n",
       "      <th>county</th>\n",
       "      <th>state</th>\n",
       "      <th>first_day_of_month</th>\n",
       "      <th>microbusiness_density</th>\n",
       "      <th>active</th>\n",
       "    </tr>\n",
       "  </thead>\n",
       "  <tbody>\n",
       "    <tr>\n",
       "      <th>0</th>\n",
       "      <td>10001_2019-08-01</td>\n",
       "      <td>10001</td>\n",
       "      <td>Kent County</td>\n",
       "      <td>Delaware</td>\n",
       "      <td>2019-08-01</td>\n",
       "      <td>4.995701</td>\n",
       "      <td>6624</td>\n",
       "    </tr>\n",
       "    <tr>\n",
       "      <th>1</th>\n",
       "      <td>10001_2019-09-01</td>\n",
       "      <td>10001</td>\n",
       "      <td>Kent County</td>\n",
       "      <td>Delaware</td>\n",
       "      <td>2019-09-01</td>\n",
       "      <td>5.031902</td>\n",
       "      <td>6672</td>\n",
       "    </tr>\n",
       "    <tr>\n",
       "      <th>2</th>\n",
       "      <td>10001_2019-10-01</td>\n",
       "      <td>10001</td>\n",
       "      <td>Kent County</td>\n",
       "      <td>Delaware</td>\n",
       "      <td>2019-10-01</td>\n",
       "      <td>5.098270</td>\n",
       "      <td>6760</td>\n",
       "    </tr>\n",
       "    <tr>\n",
       "      <th>3</th>\n",
       "      <td>10001_2019-11-01</td>\n",
       "      <td>10001</td>\n",
       "      <td>Kent County</td>\n",
       "      <td>Delaware</td>\n",
       "      <td>2019-11-01</td>\n",
       "      <td>5.124666</td>\n",
       "      <td>6795</td>\n",
       "    </tr>\n",
       "    <tr>\n",
       "      <th>4</th>\n",
       "      <td>10001_2019-12-01</td>\n",
       "      <td>10001</td>\n",
       "      <td>Kent County</td>\n",
       "      <td>Delaware</td>\n",
       "      <td>2019-12-01</td>\n",
       "      <td>5.086203</td>\n",
       "      <td>6744</td>\n",
       "    </tr>\n",
       "  </tbody>\n",
       "</table>\n",
       "</div>"
      ],
      "text/plain": [
       "             row_id  cfips       county     state first_day_of_month  \\\n",
       "0  10001_2019-08-01  10001  Kent County  Delaware         2019-08-01   \n",
       "1  10001_2019-09-01  10001  Kent County  Delaware         2019-09-01   \n",
       "2  10001_2019-10-01  10001  Kent County  Delaware         2019-10-01   \n",
       "3  10001_2019-11-01  10001  Kent County  Delaware         2019-11-01   \n",
       "4  10001_2019-12-01  10001  Kent County  Delaware         2019-12-01   \n",
       "\n",
       "   microbusiness_density  active  \n",
       "0               4.995701    6624  \n",
       "1               5.031902    6672  \n",
       "2               5.098270    6760  \n",
       "3               5.124666    6795  \n",
       "4               5.086203    6744  "
      ]
     },
     "execution_count": 74,
     "metadata": {},
     "output_type": "execute_result"
    }
   ],
   "source": [
    "# Concat\n",
    "train = pd.concat([train, revealed])\n",
    "train = train.sort_values([\"row_id\", \"cfips\"])\n",
    "train.reset_index(drop=True, inplace=True)\n",
    "train.head()"
   ]
  },
  {
   "cell_type": "code",
   "execution_count": 75,
   "id": "66c2ff2d-047c-41cb-859d-86a2173a04ed",
   "metadata": {},
   "outputs": [
    {
     "data": {
      "text/plain": [
       "count    1.285350e+05\n",
       "mean     6.461169e+03\n",
       "std      3.311759e+04\n",
       "min      0.000000e+00\n",
       "25%      1.450000e+02\n",
       "50%      4.900000e+02\n",
       "75%      2.126500e+03\n",
       "max      1.167744e+06\n",
       "Name: active, dtype: float64"
      ]
     },
     "execution_count": 75,
     "metadata": {},
     "output_type": "execute_result"
    }
   ],
   "source": [
    "train[\"active\"].describe()"
   ]
  },
  {
   "cell_type": "code",
   "execution_count": 76,
   "id": "ef63a1d8-9e6b-42de-98dc-b07547745aa2",
   "metadata": {},
   "outputs": [],
   "source": [
    "# 比率の特徴呂作成\n",
    "train[\"shift_1_mbd\"] = train.groupby(\"cfips\")[\"microbusiness_density\"].shift(1)\n",
    "train = train.fillna(method=\"bfill\")\n",
    "train[\"rate_shift1\"] = train[\"microbusiness_density\"] / train[\"shift_1_mbd\"]"
   ]
  },
  {
   "cell_type": "code",
   "execution_count": 77,
   "id": "a229577a-a0d6-40c5-ab0f-4ea602b0b18b",
   "metadata": {},
   "outputs": [],
   "source": [
    "#　2021/02 以降のデータの抽出\n",
    "train[\"first_day_of_month\"] = pd.to_datetime(train[\"first_day_of_month\"])\n",
    "extract_train = train.query(\"first_day_of_month >= '2021-02-01'\")"
   ]
  },
  {
   "cell_type": "code",
   "execution_count": 78,
   "id": "f1aca649-84df-49ba-b915-7cb0963178a4",
   "metadata": {},
   "outputs": [
    {
     "data": {
      "text/plain": [
       "count    1.285350e+05\n",
       "mean     6.461169e+03\n",
       "std      3.311759e+04\n",
       "min      0.000000e+00\n",
       "25%      1.450000e+02\n",
       "50%      4.900000e+02\n",
       "75%      2.126500e+03\n",
       "max      1.167744e+06\n",
       "Name: active, dtype: float64"
      ]
     },
     "execution_count": 78,
     "metadata": {},
     "output_type": "execute_result"
    }
   ],
   "source": [
    "train[\"active\"].describe()"
   ]
  },
  {
   "cell_type": "code",
   "execution_count": 79,
   "id": "ecf102d3-7f3f-4ffa-922e-71eb7b240acb",
   "metadata": {},
   "outputs": [
    {
     "data": {
      "image/png": "[encoded data removed]",
      "text/plain": [
       "<Figure size 640x480 with 1 Axes>"
      ]
     },
     "metadata": {},
     "output_type": "display_data"
    }
   ],
   "source": [
    "top = 99; bottom = 1\n",
    "percentile_top     = np.percentile(extract_train[\"active\"], top)\n",
    "percentile_bottom  = np.percentile(extract_train[\"active\"], bottom)\n",
    "\n",
    "pick_data = extract_train.query(\"@percentile_bottom <= active <= @percentile_top\")\n",
    "# ヒストグラムの描画\n",
    "# bins = int(np.log2(len(train)) + 1)\n",
    "bins = 50\n",
    "plt.hist(pick_data[\"active\"], bins=bins)\n",
    "plt.axvline(percentile_top, linestyle=\"dashed\", c=\"orange\")\n",
    "plt.axvline(percentile_bottom, linestyle=\"dashed\", c=\"orange\")\n",
    "plt.show()"
   ]
  },
  {
   "cell_type": "code",
   "execution_count": 80,
   "id": "ea30581d-7122-4a1d-8208-624869dab021",
   "metadata": {},
   "outputs": [],
   "source": [
    "active = extract_train[\"active\"].values\n",
    "log_active = np.log(active + 1)\n",
    "extract_train = extract_train.copy()\n",
    "extract_train[\"log_active\"] = log_active"
   ]
  },
  {
   "cell_type": "code",
   "execution_count": 81,
   "id": "2a2fa5f9-d824-412e-83d3-18778fce8312",
   "metadata": {},
   "outputs": [
    {
     "data": {
      "image/png": "[encoded data removed]",
      "text/plain": [
       "<Figure size 640x480 with 1 Axes>"
      ]
     },
     "metadata": {},
     "output_type": "display_data"
    }
   ],
   "source": [
    "top = 99.9; bottom = 0.1\n",
    "percentile_top     = np.percentile(extract_train[\"log_active\"], top)\n",
    "percentile_bottom  = np.percentile(extract_train[\"log_active\"], bottom)\n",
    "\n",
    "pick_data = extract_train.query(\"@percentile_bottom <= log_active <= @percentile_top\")\n",
    "# ヒストグラムの描画\n",
    "# bins = int(np.log2(len(train)) + 1)\n",
    "bins = 50\n",
    "plt.hist(pick_data[\"log_active\"], bins=bins)\n",
    "plt.axvline(percentile_top, linestyle=\"dashed\", c=\"orange\")\n",
    "plt.axvline(percentile_bottom, linestyle=\"dashed\", c=\"orange\")\n",
    "plt.show()"
   ]
  },
  {
   "cell_type": "code",
   "execution_count": 82,
   "id": "6530f4bc-ce80-4c35-a601-25d5a5fe9b32",
   "metadata": {},
   "outputs": [
    {
     "name": "stdout",
     "output_type": "stream",
     "text": [
      "1.099e+00 <= log_active < 5.407e+00\n",
      "data_number:23914\n",
      "\n",
      "5.407e+00 <= log_active < 7.072e+00\n",
      "data_number:24055\n",
      "\n",
      "7.072e+00 <= log_active < 1.297e+01\n",
      "data_number:23993\n",
      "\n"
     ]
    }
   ],
   "source": [
    "# 3クラスに分類\n",
    "class_num = 3\n",
    "increment = 100 / class_num\n",
    "percentile_list = []\n",
    "value = 0\n",
    "while value <= 100:\n",
    "    percentile_list.append(value)\n",
    "    value += increment\n",
    "\n",
    "percentile_value_list = [0 for _ in range(len(percentile_list))]\n",
    "for i in range(len(percentile_list)-1):\n",
    "    percentile_bottom = percentile_list[i]\n",
    "    percentile_top = percentile_list[i+1]\n",
    "    \n",
    "    percentile_bottom_value = np.percentile(pick_data[\"log_active\"], percentile_bottom)\n",
    "    percentile_top_value    = np.percentile(pick_data[\"log_active\"], percentile_top)\n",
    "    # 確認のため\n",
    "    tmp_df = pick_data.query(\"@percentile_bottom_value <= log_active < @percentile_top_value\")\n",
    "    data_num = len(tmp_df)\n",
    "    \n",
    "    percentile_value_list[i] = percentile_bottom_value\n",
    "    print(f\"{percentile_bottom_value:.3e} <= log_active < {percentile_top_value:.3e}\")\n",
    "    print(f\"data_number:{data_num}\")\n",
    "    print()\n",
    "else:\n",
    "    percentile_value_list[i+1] = percentile_top_value"
   ]
  },
  {
   "cell_type": "code",
   "execution_count": 83,
   "id": "694b4147-b246-4b91-b3ce-a7053066be45",
   "metadata": {},
   "outputs": [
    {
     "data": {
      "text/plain": [
       "1    24055\n",
       "2    23993\n",
       "0    23915\n",
       "Name: class_active, dtype: int64"
      ]
     },
     "execution_count": 83,
     "metadata": {},
     "output_type": "execute_result"
    }
   ],
   "source": [
    "pick_data = pick_data.copy()\n",
    "pick_data[\"class_active\"] = 0\n",
    "for i in range(len(percentile_value_list)-1):\n",
    "    pick_data.loc[(percentile_value_list[i] <= pick_data[\"log_active\"])&(pick_data[\"log_active\"] < percentile_value_list[i+1]), \"class_active\"] = i\n",
    "pick_data[\"class_active\"].value_counts()"
   ]
  },
  {
   "cell_type": "code",
   "execution_count": 87,
   "id": "ddb0eac0-a5e9-4619-8661-3d6c63778d41",
   "metadata": {},
   "outputs": [
    {
     "name": "stdout",
     "output_type": "stream",
     "text": [
      "////////// class_0 //////////\n"
     ]
    },
    {
     "data": {
      "text/plain": [
       "count    23915.000000\n",
       "mean         1.003740\n",
       "std          0.067411\n",
       "min          0.149425\n",
       "25%          0.988889\n",
       "50%          1.000000\n",
       "75%          1.014925\n",
       "max          5.083333\n",
       "Name: rate_shift1, dtype: float64"
      ]
     },
     "metadata": {},
     "output_type": "display_data"
    },
    {
     "name": "stdout",
     "output_type": "stream",
     "text": [
      "//////////////////////////////\n",
      "\n",
      "////////// class_1 //////////\n"
     ]
    },
    {
     "data": {
      "text/plain": [
       "count    24055.000000\n",
       "mean         1.003970\n",
       "std          0.071929\n",
       "min          0.078129\n",
       "25%          0.994186\n",
       "50%          1.001490\n",
       "75%          1.009346\n",
       "max          8.730769\n",
       "Name: rate_shift1, dtype: float64"
      ]
     },
     "metadata": {},
     "output_type": "display_data"
    },
    {
     "name": "stdout",
     "output_type": "stream",
     "text": [
      "//////////////////////////////\n",
      "\n",
      "////////// class_2 //////////\n"
     ]
    },
    {
     "data": {
      "text/plain": [
       "count    23993.000000\n",
       "mean         1.004692\n",
       "std          0.141430\n",
       "min          0.048310\n",
       "25%          0.997420\n",
       "50%          1.002099\n",
       "75%          1.007034\n",
       "max         17.463277\n",
       "Name: rate_shift1, dtype: float64"
      ]
     },
     "metadata": {},
     "output_type": "display_data"
    },
    {
     "name": "stdout",
     "output_type": "stream",
     "text": [
      "//////////////////////////////\n",
      "\n"
     ]
    },
    {
     "data": {
      "image/png": "[encoded data removed]",
      "text/plain": [
       "<Figure size 640x480 with 1 Axes>"
      ]
     },
     "metadata": {},
     "output_type": "display_data"
    }
   ],
   "source": [
    "# class_activeごとにrate_shiftの確認\n",
    "range_max = np.percentile(pick_data[\"rate_shift1\"], 99)\n",
    "range_min = np.percentile(pick_data[\"rate_shift1\"], 1)\n",
    "bins = 30\n",
    "plt.figure()\n",
    "\n",
    "for i in range(3):\n",
    "    print(\"/\"*10, f\"class_{i}\", \"/\"*10)\n",
    "    tmp_df = pick_data.query(\"class_active == @i\")\n",
    "    display(tmp_df[\"rate_shift1\"].describe())\n",
    "    \n",
    "    plt.hist(tmp_df[\"rate_shift1\"], label=f\"class_{i}\", alpha=0.3, range=(range_min, range_max), bins=bins)\n",
    "    print(\"/\"*30)\n",
    "    print()\n",
    "plt.legend()\n",
    "plt.show()"
   ]
  },
  {
   "cell_type": "markdown",
   "id": "2ad45fc6-ce80-45a7-bdcc-81aa7bb042f4",
   "metadata": {},
   "source": [
    "- activeのクラスによりrateの分布は変わる\n",
    "- activeが大きいほど、変化率は1近傍に集中している（ただし、min, maxに着目すると極端な値があるために分散が大きくなっていると考えられる　 ->　予測が難しい部分？工夫すべき点？"
   ]
  },
  {
   "cell_type": "markdown",
   "id": "4165be96-50e8-4b02-b8a3-16444db287ef",
   "metadata": {},
   "source": [
    "# row_id, targetのcsv出力"
   ]
  },
  {
   "cell_type": "code",
   "execution_count": 47,
   "id": "811ee660-c847-4ccd-a652-040346e4bec5",
   "metadata": {},
   "outputs": [],
   "source": [
    "# ※　0割が発生して、infになったところは99.9percentileで置換\n",
    "# ※もとのrow_idの並びとは異なる\n",
    "# ※比率作成の都合上2019-08-01の比率はすべて1になっている"
   ]
  },
  {
   "cell_type": "code",
   "execution_count": 37,
   "id": "fe4ecfe3-c228-495e-9ceb-495d80cfb802",
   "metadata": {},
   "outputs": [],
   "source": [
    "train = pd.read_csv(train_filepath)\n",
    "revealed = pd.read_csv(revealed_filepath)"
   ]
  },
  {
   "cell_type": "code",
   "execution_count": 38,
   "id": "2d595e2d-f3b3-47a7-a42b-4d351bf918e0",
   "metadata": {},
   "outputs": [
    {
     "data": {
      "text/html": [
       "<div>\n",
       "<style scoped>\n",
       "    .dataframe tbody tr th:only-of-type {\n",
       "        vertical-align: middle;\n",
       "    }\n",
       "\n",
       "    .dataframe tbody tr th {\n",
       "        vertical-align: top;\n",
       "    }\n",
       "\n",
       "    .dataframe thead th {\n",
       "        text-align: right;\n",
       "    }\n",
       "</style>\n",
       "<table border=\"1\" class=\"dataframe\">\n",
       "  <thead>\n",
       "    <tr style=\"text-align: right;\">\n",
       "      <th></th>\n",
       "      <th>row_id</th>\n",
       "      <th>cfips</th>\n",
       "      <th>county</th>\n",
       "      <th>state</th>\n",
       "      <th>first_day_of_month</th>\n",
       "      <th>microbusiness_density</th>\n",
       "      <th>active</th>\n",
       "    </tr>\n",
       "  </thead>\n",
       "  <tbody>\n",
       "    <tr>\n",
       "      <th>0</th>\n",
       "      <td>10001_2019-08-01</td>\n",
       "      <td>10001</td>\n",
       "      <td>Kent County</td>\n",
       "      <td>Delaware</td>\n",
       "      <td>2019-08-01</td>\n",
       "      <td>4.995701</td>\n",
       "      <td>6624</td>\n",
       "    </tr>\n",
       "    <tr>\n",
       "      <th>1</th>\n",
       "      <td>10001_2019-09-01</td>\n",
       "      <td>10001</td>\n",
       "      <td>Kent County</td>\n",
       "      <td>Delaware</td>\n",
       "      <td>2019-09-01</td>\n",
       "      <td>5.031902</td>\n",
       "      <td>6672</td>\n",
       "    </tr>\n",
       "    <tr>\n",
       "      <th>2</th>\n",
       "      <td>10001_2019-10-01</td>\n",
       "      <td>10001</td>\n",
       "      <td>Kent County</td>\n",
       "      <td>Delaware</td>\n",
       "      <td>2019-10-01</td>\n",
       "      <td>5.098270</td>\n",
       "      <td>6760</td>\n",
       "    </tr>\n",
       "    <tr>\n",
       "      <th>3</th>\n",
       "      <td>10001_2019-11-01</td>\n",
       "      <td>10001</td>\n",
       "      <td>Kent County</td>\n",
       "      <td>Delaware</td>\n",
       "      <td>2019-11-01</td>\n",
       "      <td>5.124666</td>\n",
       "      <td>6795</td>\n",
       "    </tr>\n",
       "    <tr>\n",
       "      <th>4</th>\n",
       "      <td>10001_2019-12-01</td>\n",
       "      <td>10001</td>\n",
       "      <td>Kent County</td>\n",
       "      <td>Delaware</td>\n",
       "      <td>2019-12-01</td>\n",
       "      <td>5.086203</td>\n",
       "      <td>6744</td>\n",
       "    </tr>\n",
       "  </tbody>\n",
       "</table>\n",
       "</div>"
      ],
      "text/plain": [
       "             row_id  cfips       county     state first_day_of_month  \\\n",
       "0  10001_2019-08-01  10001  Kent County  Delaware         2019-08-01   \n",
       "1  10001_2019-09-01  10001  Kent County  Delaware         2019-09-01   \n",
       "2  10001_2019-10-01  10001  Kent County  Delaware         2019-10-01   \n",
       "3  10001_2019-11-01  10001  Kent County  Delaware         2019-11-01   \n",
       "4  10001_2019-12-01  10001  Kent County  Delaware         2019-12-01   \n",
       "\n",
       "   microbusiness_density  active  \n",
       "0               4.995701    6624  \n",
       "1               5.031902    6672  \n",
       "2               5.098270    6760  \n",
       "3               5.124666    6795  \n",
       "4               5.086203    6744  "
      ]
     },
     "execution_count": 38,
     "metadata": {},
     "output_type": "execute_result"
    }
   ],
   "source": [
    "# Concat\n",
    "train = pd.concat([train, revealed])\n",
    "train = train.sort_values([\"row_id\", \"cfips\"])\n",
    "train.reset_index(drop=True, inplace=True)\n",
    "train.head()"
   ]
  },
  {
   "cell_type": "code",
   "execution_count": 39,
   "id": "c59fbfe7-6278-4d17-9fee-deff59d54808",
   "metadata": {},
   "outputs": [],
   "source": [
    "# 比率の特徴呂作成\n",
    "train[\"shift_1_mbd\"] = train.groupby(\"cfips\")[\"microbusiness_density\"].shift(1)\n",
    "train = train.fillna(method=\"bfill\")\n",
    "train[\"rate_shift1\"] = train[\"microbusiness_density\"] / train[\"shift_1_mbd\"]"
   ]
  },
  {
   "cell_type": "code",
   "execution_count": 40,
   "id": "45ff9aa7-889e-435b-a146-ae32eb0b0e95",
   "metadata": {},
   "outputs": [
    {
     "data": {
      "text/plain": [
       "inf"
      ]
     },
     "execution_count": 40,
     "metadata": {},
     "output_type": "execute_result"
    }
   ],
   "source": [
    "max(train[\"rate_shift1\"])"
   ]
  },
  {
   "cell_type": "code",
   "execution_count": 41,
   "id": "507690ff-c98f-47ed-bfbd-bbe8b0cf6e42",
   "metadata": {
    "tags": []
   },
   "outputs": [
    {
     "data": {
      "text/plain": [
       "3"
      ]
     },
     "execution_count": 41,
     "metadata": {},
     "output_type": "execute_result"
    }
   ],
   "source": [
    "a = train[\"rate_shift1\"]==float(\"inf\")\n",
    "sum(a)"
   ]
  },
  {
   "cell_type": "code",
   "execution_count": 42,
   "id": "53b59360-d730-43f6-b5d0-37d464c7cde2",
   "metadata": {},
   "outputs": [],
   "source": [
    "# 0割によりinfになったところは、99percentileで置換\n",
    "train.loc[train[\"rate_shift1\"]==float(\"inf\"), \"rate_shift1\"] = np.percentile(train[\"rate_shift1\"], 99.9)"
   ]
  },
  {
   "cell_type": "code",
   "execution_count": 43,
   "id": "260b8f43-a420-42df-96d9-11deb3825e74",
   "metadata": {},
   "outputs": [
    {
     "data": {
      "text/plain": [
       "48.35498596499827"
      ]
     },
     "execution_count": 43,
     "metadata": {},
     "output_type": "execute_result"
    }
   ],
   "source": [
    "max(train[\"rate_shift1\"])"
   ]
  },
  {
   "cell_type": "code",
   "execution_count": 44,
   "id": "f65aea4b-39f6-4521-8255-bdf0992eb280",
   "metadata": {},
   "outputs": [
    {
     "data": {
      "text/plain": [
       "0"
      ]
     },
     "execution_count": 44,
     "metadata": {},
     "output_type": "execute_result"
    }
   ],
   "source": [
    "a = train[\"rate_shift1\"]==float(\"inf\")\n",
    "sum(a)"
   ]
  },
  {
   "cell_type": "code",
   "execution_count": 46,
   "id": "28c92ab8-e5f8-41e0-b4a5-61296af8cb43",
   "metadata": {},
   "outputs": [
    {
     "data": {
      "text/html": [
       "<div>\n",
       "<style scoped>\n",
       "    .dataframe tbody tr th:only-of-type {\n",
       "        vertical-align: middle;\n",
       "    }\n",
       "\n",
       "    .dataframe tbody tr th {\n",
       "        vertical-align: top;\n",
       "    }\n",
       "\n",
       "    .dataframe thead th {\n",
       "        text-align: right;\n",
       "    }\n",
       "</style>\n",
       "<table border=\"1\" class=\"dataframe\">\n",
       "  <thead>\n",
       "    <tr style=\"text-align: right;\">\n",
       "      <th></th>\n",
       "      <th>row_id</th>\n",
       "      <th>target</th>\n",
       "    </tr>\n",
       "  </thead>\n",
       "  <tbody>\n",
       "    <tr>\n",
       "      <th>0</th>\n",
       "      <td>10001_2019-08-01</td>\n",
       "      <td>1.000000</td>\n",
       "    </tr>\n",
       "    <tr>\n",
       "      <th>1</th>\n",
       "      <td>10001_2019-09-01</td>\n",
       "      <td>1.007246</td>\n",
       "    </tr>\n",
       "    <tr>\n",
       "      <th>2</th>\n",
       "      <td>10001_2019-10-01</td>\n",
       "      <td>1.013189</td>\n",
       "    </tr>\n",
       "    <tr>\n",
       "      <th>3</th>\n",
       "      <td>10001_2019-11-01</td>\n",
       "      <td>1.005178</td>\n",
       "    </tr>\n",
       "    <tr>\n",
       "      <th>4</th>\n",
       "      <td>10001_2019-12-01</td>\n",
       "      <td>0.992495</td>\n",
       "    </tr>\n",
       "    <tr>\n",
       "      <th>...</th>\n",
       "      <td>...</td>\n",
       "      <td>...</td>\n",
       "    </tr>\n",
       "    <tr>\n",
       "      <th>128530</th>\n",
       "      <td>9015_2022-08-01</td>\n",
       "      <td>0.994017</td>\n",
       "    </tr>\n",
       "    <tr>\n",
       "      <th>128531</th>\n",
       "      <td>9015_2022-09-01</td>\n",
       "      <td>1.004213</td>\n",
       "    </tr>\n",
       "    <tr>\n",
       "      <th>128532</th>\n",
       "      <td>9015_2022-10-01</td>\n",
       "      <td>0.999700</td>\n",
       "    </tr>\n",
       "    <tr>\n",
       "      <th>128533</th>\n",
       "      <td>9015_2022-11-01</td>\n",
       "      <td>1.001799</td>\n",
       "    </tr>\n",
       "    <tr>\n",
       "      <th>128534</th>\n",
       "      <td>9015_2022-12-01</td>\n",
       "      <td>1.000898</td>\n",
       "    </tr>\n",
       "  </tbody>\n",
       "</table>\n",
       "<p>128535 rows × 2 columns</p>\n",
       "</div>"
      ],
      "text/plain": [
       "                  row_id    target\n",
       "0       10001_2019-08-01  1.000000\n",
       "1       10001_2019-09-01  1.007246\n",
       "2       10001_2019-10-01  1.013189\n",
       "3       10001_2019-11-01  1.005178\n",
       "4       10001_2019-12-01  0.992495\n",
       "...                  ...       ...\n",
       "128530   9015_2022-08-01  0.994017\n",
       "128531   9015_2022-09-01  1.004213\n",
       "128532   9015_2022-10-01  0.999700\n",
       "128533   9015_2022-11-01  1.001799\n",
       "128534   9015_2022-12-01  1.000898\n",
       "\n",
       "[128535 rows x 2 columns]"
      ]
     },
     "execution_count": 46,
     "metadata": {},
     "output_type": "execute_result"
    }
   ],
   "source": [
    "output = train[[\"row_id\", \"rate_shift1\"]]\n",
    "output = output.rename(columns={\"rate_shift1\":\"target\"})\n",
    "output"
   ]
  },
  {
   "cell_type": "code",
   "execution_count": 48,
   "id": "733c2d46-41cb-43e5-8721-08b4e223325f",
   "metadata": {},
   "outputs": [],
   "source": [
    "output.to_csv(\"rate_shift1.csv\", index=False)"
   ]
  }
 ],
 "metadata": {
  "kernelspec": {
   "display_name": "Python 3 (ipykernel)",
   "language": "python",
   "name": "python3"
  },
  "language_info": {
   "codemirror_mode": {
    "name": "ipython",
    "version": 3
   },
   "file_extension": ".py",
   "mimetype": "text/x-python",
   "name": "python",
   "nbconvert_exporter": "python",
   "pygments_lexer": "ipython3",
   "version": "3.9.16"
  }
 },
 "nbformat": 4,
 "nbformat_minor": 5
}
